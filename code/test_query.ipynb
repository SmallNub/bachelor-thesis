{
 "cells": [
  {
   "cell_type": "code",
   "execution_count": null,
   "id": "a5ef9783",
   "metadata": {},
   "outputs": [],
   "source": [
    "from transformers import AutoTokenizer, AutoModelForSeq2SeqLM\n",
    "\n",
    "MODEL_NAME = \"doc2query/all-with_prefix-t5-base-v1\"\n",
    "MODELS_DIR = \"/home/nub/Bachelor/bachelor-thesis/models\"\n",
    "\n",
    "tokenizer = AutoTokenizer.from_pretrained(\n",
    "    MODEL_NAME,\n",
    "    cache_dir=MODELS_DIR,\n",
    "    use_fast=True\n",
    ")\n",
    "\n",
    "model = AutoModelForSeq2SeqLM.from_pretrained(\n",
    "    MODEL_NAME,\n",
    "    cache_dir=MODELS_DIR,\n",
    "    torch_dtype=\"auto\",\n",
    "    local_files_only=False,\n",
    "    low_cpu_mem_usage=True,\n",
    "    device_map=\"auto\"\n",
    ")\n",
    "\n",
    "def tokenize(prompt):\n",
    "    # Model will silently truncate above 512 tokens\n",
    "    model_inputs = tokenizer(\n",
    "        prompt,\n",
    "        truncation=True,\n",
    "        max_length=tokenizer.model_max_length,\n",
    "    )\n",
    "    return model_inputs\n",
    "\n",
    "prefix = \"text2question: \"\n",
    "\n",
    "def process_examples(examples):\n",
    "    prompts = [prefix + example for example in examples]\n",
    "    tokenized = tokenize(prompts)\n",
    "    return tokenized"
   ]
  },
  {
   "cell_type": "code",
   "execution_count": 3,
   "id": "97f56cb5",
   "metadata": {},
   "outputs": [
    {
     "name": "stdout",
     "output_type": "stream",
     "text": [
      "what is transformer in deep learning?\n"
     ]
    }
   ],
   "source": [
    "prefix = \"text2question\"\n",
    "text = 'A transformer is a deep learning model that adopts the mechanism of self-attention, differentially ' \\\n",
    "          'weighting the significance of each part of the input (which includes the recursive output) data.'\n",
    "\n",
    "text = prefix+\": \"+text\n",
    "\n",
    "model_inputs = tokenize(text)\n",
    "\n",
    "generated = model.generate(model_inputs[\"input_ids\"].to(model.device), attention_mask=model_inputs[\"attention_mask\"].to(model.device), max_length=64)\n",
    "tokens_in = []\n",
    "tokens_out = []\n",
    "\n",
    "\n",
    "print(tokenizer.decode(generated[0], skip_special_tokens=True))\n"
   ]
  }
 ],
 "metadata": {
  "kernelspec": {
   "display_name": "venv_thesis",
   "language": "python",
   "name": "python3"
  },
  "language_info": {
   "codemirror_mode": {
    "name": "ipython",
    "version": 3
   },
   "file_extension": ".py",
   "mimetype": "text/x-python",
   "name": "python",
   "nbconvert_exporter": "python",
   "pygments_lexer": "ipython3",
   "version": "3.12.3"
  }
 },
 "nbformat": 4,
 "nbformat_minor": 5
}
