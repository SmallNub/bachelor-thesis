{
 "cells": [
  {
   "cell_type": "markdown",
   "id": "1deda336",
   "metadata": {},
   "source": [
    "/home/nub/Bachelor/bachelor-thesis/models/finqa_full_base_pseudo\n",
    "\n",
    "{'train': {'penalty_scaled': np.float64(1.0127699568069108), 'penalty_capped': np.float64(1.0127699568069108), 'penalty_uncapped': np.float64(1.0127699568069108), 'missing': 0.0, 'exact_match_accuracy': 0.9705647096464566, 'part_match_accuracy': 0.9849357436143541, 'structure_score_norm': 0.0, 'structure_score_pos': 0.0, 'structure_score_neg': 0.0},\n",
    "\n",
    "'eval': {'penalty_scaled': np.float64(1.2865515288788223), 'penalty_capped': np.float64(1.2865515288788223), 'penalty_uncapped': np.float64(1.2865515288788223), 'missing': 0.0, 'exact_match_accuracy': 0.45300113250283125, 'part_match_accuracy': 0.6543978859947137, 'structure_score_norm': 0.0, 'structure_score_pos': 0.0, 'structure_score_neg': 0.0},\n",
    "\n",
    "'test': {'penalty_scaled': np.float64(1.2886878814298168), 'penalty_capped': np.float64(1.2886878814298168), 'penalty_uncapped': np.float64(1.2886878814298168), 'missing': 0.0, 'exact_match_accuracy': 0.44638186573670446, 'part_match_accuracy': 0.6519907003778002, 'structure_score_norm': 0.0, 'structure_score_pos': 0.0, 'structure_score_neg': 0.0}}"
   ]
  },
  {
   "cell_type": "markdown",
   "id": "642048b6",
   "metadata": {},
   "source": [
    "/home/nub/Bachelor/bachelor-thesis/models/finqa_full_base_prompt\n",
    "\n",
    "{'train': {'penalty_scaled': np.float64(1.1170916653335468), 'penalty_capped': np.float64(1.1170916653335468), 'penalty_uncapped': np.float64(1.1170916653335468), 'missing': 0.0, 'exact_match_accuracy': 0.8341065429531275, 'part_match_accuracy': 0.8994827494267531, 'set_match_accuracy': 0.908041380045855, 'structure_score_norm': 0.0, 'structure_score_pos': 0.0, 'structure_score_neg': 0.0},\n",
    "\n",
    "'eval': {'penalty_scaled': np.float64(1.3450887127217819), 'penalty_capped': np.float64(1.3450887127217819), 'penalty_uncapped': np.float64(1.3450887127217819), 'missing': 0.0, 'exact_match_accuracy': 0.5209513023782559, 'part_match_accuracy': 0.7095130237825605, 'set_match_accuracy': 0.7258588146470372, 'structure_score_norm': 0.0, 'structure_score_pos': 0.0, 'structure_score_neg': 0.0},\n",
    "\n",
    "'test': {'penalty_scaled': np.float64(1.3277361232199942), 'penalty_capped': np.float64(1.3277361232199942), 'penalty_uncapped': np.float64(1.3277361232199942), 'missing': 0.0, 'exact_match_accuracy': 0.5527462946817786, 'part_match_accuracy': 0.7213019471084022, 'set_match_accuracy': 0.740860215053766, 'structure_score_norm': 0.0, 'structure_score_pos': 0.0, 'structure_score_neg': 0.0}}"
   ]
  },
  {
   "cell_type": "markdown",
   "id": "e2ad6efe",
   "metadata": {},
   "source": [
    "/home/nub/Bachelor/bachelor-thesis/models/finqa_full_base_low\n",
    "\n",
    "{'train': {'penalty_scaled': np.float64(1.0816701327787555), 'penalty_capped': np.float64(1.0816701327787555), 'penalty_uncapped': np.float64(1.0857974724044153), 'missing': 0.0, 'exact_match_accuracy': 0.9054551271796513, 'part_match_accuracy': 0.9445155441795946, 'set_match_accuracy': 0.9493840985442297, 'structure_score_norm': 0.0, 'structure_score_pos': 0.0, 'structure_score_neg': 0.0},\n",
    "\n",
    "'eval': {'penalty_scaled': np.float64(1.4816459041147605), 'penalty_capped': np.float64(1.4816459041147605), 'penalty_uncapped': np.float64(1.5104643261608155), 'missing': 0.0, 'exact_match_accuracy': 0.4824462061155153, 'part_match_accuracy': 0.6753491883729695, 'set_match_accuracy': 0.6946772366930908, 'structure_score_norm': 0.0, 'structure_score_pos': 0.0, 'structure_score_neg': 0.0},\n",
    "\n",
    "'test': {'penalty_scaled': np.float64(1.4557221737866899), 'penalty_capped': np.float64(1.4557221737866899), 'penalty_uncapped': np.float64(1.4821505376344086), 'missing': 0.0, 'exact_match_accuracy': 0.5047951176983435, 'part_match_accuracy': 0.6887532693984343, 'set_match_accuracy': 0.7145015983725687, 'structure_score_norm': 0.0, 'structure_score_pos': 0.0, 'structure_score_neg': 0.0}}"
   ]
  },
  {
   "cell_type": "markdown",
   "id": "9afda61f",
   "metadata": {},
   "source": [
    "/home/nub/Bachelor/bachelor-thesis/models/finqa_full_base_5\n",
    "\n",
    "{'train': {'penalty_scaled': np.float64(1.0872346950946008), 'penalty_capped': np.float64(1.0872346950946008), 'penalty_uncapped': np.float64(1.145038127232976), 'missing': 0.0, 'exact_match_accuracy': 0.9046552551591746, 'part_match_accuracy': 0.9430224497413715, 'set_match_accuracy': 0.9473684210526293, 'structure_score_norm': 0.0, 'structure_score_pos': 0.0, 'structure_score_neg': 0.0},\n",
    "\n",
    "'eval': {'penalty_scaled': np.float64(1.4494812625132452), 'penalty_capped': np.float64(1.4494812625132452), 'penalty_uncapped': np.float64(1.7561721404303514), 'missing': 0.0, 'exact_match_accuracy': 0.5232163080407701, 'part_match_accuracy': 0.7025292563231402, 'set_match_accuracy': 0.7252170630426575, 'structure_score_norm': 0.0, 'structure_score_pos': 0.0, 'structure_score_neg': 0.0},\n",
    "\n",
    "'test': {'penalty_scaled': np.float64(1.4678271314769105), 'penalty_capped': np.float64(1.4678271314769105), 'penalty_uncapped': np.float64(1.7880557977332177), 'missing': 0.0, 'exact_match_accuracy': 0.5074106364428945, 'part_match_accuracy': 0.6896251089799512, 'set_match_accuracy': 0.7146469049694882, 'structure_score_norm': 0.0, 'structure_score_pos': 0.0, 'structure_score_neg': 0.0}}"
   ]
  },
  {
   "cell_type": "markdown",
   "id": "c3a7413b",
   "metadata": {},
   "source": [
    "/home/nub/Bachelor/bachelor-thesis/models/finqa_full_base_10_fail\n",
    "\n",
    "{'train': {'penalty_scaled': np.float64(1.143484172315532), 'penalty_capped': np.float64(1.143484172315532), 'penalty_uncapped': np.float64(1.2391697328427453), 'missing': 0.0, 'exact_match_accuracy': 0.8435450327947528, 'part_match_accuracy': 0.9059083879912494, 'set_match_accuracy': 0.9136724790700117, 'structure_score_norm': 0.0, 'structure_score_pos': 0.0, 'structure_score_neg': 0.0},\n",
    "\n",
    "'eval': {'penalty_scaled': np.float64(1.3992709022117895), 'penalty_capped': np.float64(1.3992709022117895), 'penalty_uncapped': np.float64(1.6751038127595321), 'missing': 0.0, 'exact_match_accuracy': 0.5832389580973952, 'part_match_accuracy': 0.7349943374858449, 'set_match_accuracy': 0.7514911287278228, 'structure_score_norm': 0.0, 'structure_score_pos': 0.0, 'structure_score_neg': 0.0},\n",
    "\n",
    "'test': {'penalty_scaled': np.float64(1.4000266012448492), 'penalty_capped': np.float64(1.4000266012448492), 'penalty_uncapped': np.float64(1.6749055507120025), 'missing': 0.0, 'exact_match_accuracy': 0.5806451612903226, 'part_match_accuracy': 0.7340889276373177, 'set_match_accuracy': 0.7557686718977067, 'structure_score_norm': 0.0, 'structure_score_pos': 0.0, 'structure_score_neg': 0.0}}"
   ]
  },
  {
   "cell_type": "markdown",
   "id": "22d08878",
   "metadata": {},
   "source": [
    "/home/nub/Bachelor/bachelor-thesis/models/finqa_base_10 - local run\n",
    "\n",
    "{'train': {'penalty_scaled': np.float64(1.1730827122363106), 'penalty_capped': np.float64(1.1730827122363106), 'penalty_uncapped': np.float64(1.290326881032368), 'missing': 0.0, 'exact_match_accuracy': 0.8149096144616861, 'part_match_accuracy': 0.8858049378766015, 'set_match_accuracy': 0.8946355249826652, 'structure_score_norm': 0.0, 'structure_score_pos': 0.0, 'structure_score_neg': 0.0},\n",
    "\n",
    "'eval': {'penalty_scaled': np.float64(1.4055336802607197), 'penalty_capped': np.float64(1.4055336802607197), 'penalty_uncapped': np.float64(1.6835787089467724), 'missing': 0.0, 'exact_match_accuracy': 0.5719139297848245, 'part_match_accuracy': 0.731974329935826, 'set_match_accuracy': 0.7477538693846743, 'structure_score_norm': 0.0, 'structure_score_pos': 0.0, 'structure_score_neg': 0.0},\n",
    "\n",
    "'test': {'penalty_scaled': np.float64(1.377799639262459), 'penalty_capped': np.float64(1.377799639262459), 'penalty_uncapped': np.float64(1.6360360360360362), 'missing': 0.0, 'exact_match_accuracy': 0.6006974716652136, 'part_match_accuracy': 0.7502179598953824, 'set_match_accuracy': 0.7669863411798921, 'structure_score_norm': 0.0, 'structure_score_pos': 0.0, 'structure_score_neg': 0.0}}\n",
    "\n",
    "/home/nub/Bachelor/bachelor-thesis/models/finqa_base_10_2 - eval_12656897\n",
    "\n",
    "{'train': {'penalty_scaled': np.float64(1.1727041476025999), 'penalty_capped': np.float64(1.1727041476025999), 'penalty_uncapped': np.float64(1.289710979576601), 'missing': 0.0, 'exact_match_accuracy': 0.8153895376739722, 'part_match_accuracy': 0.8860448994827441, 'set_match_accuracy': 0.8948594891483985, 'structure_score_norm': 0.0, 'structure_score_pos': 0.0, 'structure_score_neg': 0.0},\n",
    "\n",
    "'eval': {'penalty_scaled': np.float64(1.4104767536068494), 'penalty_capped': np.float64(1.4104767536068494), 'penalty_uncapped': np.float64(1.691751604379011), 'missing': 0.0, 'exact_match_accuracy': 0.5662514156285391, 'part_match_accuracy': 0.7287655719139311, 'set_match_accuracy': 0.7448093620234059, 'structure_score_norm': 0.0, 'structure_score_pos': 0.0, 'structure_score_neg': 0.0},\n",
    "\n",
    "'test': {'penalty_scaled': np.float64(1.3828317894746809), 'penalty_capped': np.float64(1.3828317894746809), 'penalty_uncapped': np.float64(1.6445945945945948), 'missing': 0.0, 'exact_match_accuracy': 0.5954664341761116, 'part_match_accuracy': 0.7468759081662338, 'set_match_accuracy': 0.7637605347282791, 'structure_score_norm': 0.0, 'structure_score_pos': 0.0, 'structure_score_neg': 0.0}}"
   ]
  },
  {
   "cell_type": "markdown",
   "id": "99cad83e",
   "metadata": {},
   "source": [
    "/home/nub/Bachelor/bachelor-thesis/models/finqa_base_10_cot - eval_12377400\n",
    "\n",
    "{'train': {'penalty_scaled': np.float64(1.1948870535669478), 'penalty_capped': np.float64(1.1948870535669478), 'penalty_uncapped': np.float64(1.3254092678504776), 'missing': 0.00015997440409534473, 'exact_match_accuracy': 0.7885138377859543, 'part_match_accuracy': 0.871913827120989, 'set_match_accuracy': 0.882722764357699, 'structure_score_norm': -0.00015997440409534473, 'structure_score_pos': 0.0, 'structure_score_neg': 0.00015997440409534473},\n",
    "\n",
    "'eval': {'penalty_scaled': np.float64(1.3764056100308362), 'penalty_capped': np.float64(1.3764056100308362), 'penalty_uncapped': np.float64(1.6384107210268026), 'missing': 0.0011325028312570782, 'exact_match_accuracy': 0.608154020385051, 'part_match_accuracy': 0.7497168742921869, 'set_match_accuracy': 0.7638354095885249, 'structure_score_norm': -0.0011325028312570782, 'structure_score_pos': 0.0, 'structure_score_neg': 0.0011325028312570782},\n",
    "\n",
    "'test': {'penalty_scaled': np.float64(1.3694422018641628), 'penalty_capped': np.float64(1.3694422018641628), 'penalty_uncapped': np.float64(1.6226242371403663), 'missing': 0.0, 'exact_match_accuracy': 0.6102877070619006, 'part_match_accuracy': 0.7548677709968074, 'set_match_accuracy': 0.7742516710258677, 'structure_score_norm': 0.0, 'structure_score_pos': 0.0, 'structure_score_neg': 0.0}}"
   ]
  },
  {
   "cell_type": "markdown",
   "id": "a0f8aad6",
   "metadata": {},
   "source": [
    "/home/nub/Bachelor/bachelor-thesis/models/finqa_base_10_ex - eval_12380506\n",
    "\n",
    "{'train': {'penalty_scaled': np.float64(1.118395289878825), 'penalty_capped': np.float64(1.118395289878825), 'penalty_uncapped': np.float64(1.197946995147443), 'missing': 0.0, 'exact_match_accuracy': 0.8725003999360103, 'part_match_accuracy': 0.9220658028048813, 'set_match_accuracy': 0.9285927584919719, 'structure_score_norm': 0.0, 'structure_score_pos': 0.0, 'structure_score_neg': 0.0},\n",
    "\n",
    "'eval': {'penalty_scaled': np.float64(1.385036678563092), 'penalty_capped': np.float64(1.385036678563092), 'penalty_uncapped': np.float64(1.650906002265006), 'missing': 0.0, 'exact_match_accuracy': 0.5968289920724802, 'part_match_accuracy': 0.7448093620234066, 'set_match_accuracy': 0.7592676481691215, 'structure_score_norm': 0.0, 'structure_score_pos': 0.0, 'structure_score_neg': 0.0},\n",
    "\n",
    "'test': {'penalty_scaled': np.float64(1.3388400301269252), 'penalty_capped': np.float64(1.3388400301269252), 'penalty_uncapped': np.float64(1.5724498692240627), 'missing': 0.0, 'exact_match_accuracy': 0.6460331299040977, 'part_match_accuracy': 0.7746294681778592, 'set_match_accuracy': 0.7919790758500463, 'structure_score_norm': 0.0, 'structure_score_pos': 0.0, 'structure_score_neg': 0.0}}"
   ]
  },
  {
   "cell_type": "markdown",
   "id": "1c3c559d",
   "metadata": {},
   "source": [
    "/home/nub/Bachelor/bachelor-thesis/models/finqa_base_10_no_ex - eval_12579165\n",
    "\n",
    "{'train': {'penalty_scaled': np.float64(1.1082237537323392), 'penalty_capped': np.float64(1.1082237537323392), 'penalty_uncapped': np.float64(1.1811976750386606), 'missing': 0.0, 'exact_match_accuracy': 0.8840185570308751, 'part_match_accuracy': 0.928651415773473, 'set_match_accuracy': 0.934623793526367, 'structure_score_norm': -0.00015997440409534473, 'structure_score_pos': 0.0, 'structure_score_neg': 2.6662400682557456e-05},\n",
    "\n",
    "'eval': {'penalty_scaled': np.float64(1.3755304144493903), 'penalty_capped': np.float64(1.3755304144493903), 'penalty_uncapped': np.float64(1.6348999622499059), 'missing': 0.0, 'exact_match_accuracy': 0.6070215175537939, 'part_match_accuracy': 0.7512268780671965, 'set_match_accuracy': 0.7645904114760296, 'structure_score_norm': 0.0, 'structure_score_pos': 0.0, 'structure_score_neg': 0.0},\n",
    "\n",
    "'test': {'penalty_scaled': np.float64(1.3582187531308252), 'penalty_capped': np.float64(1.3582187531308252), 'penalty_uncapped': np.float64(1.6057686718977042), 'missing': 0.0, 'exact_match_accuracy': 0.6268526591107236, 'part_match_accuracy': 0.7616971810520236, 'set_match_accuracy': 0.7789886660854435, 'structure_score_norm': 0.0, 'structure_score_pos': 0.0, 'structure_score_neg': 0.0}}"
   ]
  },
  {
   "cell_type": "markdown",
   "id": "42f2ff23",
   "metadata": {},
   "source": [
    "/home/nub/Bachelor/bachelor-thesis/models/finqa_base_10_no_cot - eval_12579313\n",
    "\n",
    "{'train': {'penalty_scaled': np.float64(1.1110066563142513), 'penalty_capped': np.float64(1.1110066563142513), 'penalty_uncapped': np.float64(1.1855089852290301), 'missing': 0.0, 'exact_match_accuracy': 0.8800191969284914, 'part_match_accuracy': 0.9269983469311539, 'set_match_accuracy': 0.9329867221244574, 'structure_score_norm': 0.0, 'structure_score_pos': 0.0, 'structure_score_neg': 0.0},\n",
    "\n",
    "'eval': {'penalty_scaled': np.float64(1.4095822559774305), 'penalty_capped': np.float64(1.4095822559774305), 'penalty_uncapped': np.float64(1.6915817289543225), 'missing': 0.0, 'exact_match_accuracy': 0.5707814269535674, 'part_match_accuracy': 0.7280105700264253, 'set_match_accuracy': 0.7477161192902986, 'structure_score_norm': 0.0, 'structure_score_pos': 0.0, 'structure_score_neg': 0.0},\n",
    "\n",
    "'test': {'penalty_scaled': np.float64(1.369272273927545), 'penalty_capped': np.float64(1.369272273927545), 'penalty_uncapped': np.float64(1.622682359779134), 'missing': 0.0, 'exact_match_accuracy': 0.6120313862249346, 'part_match_accuracy': 0.7548677709968068, 'set_match_accuracy': 0.7739610578320285, 'structure_score_norm': 0.0, 'structure_score_pos': 0.0, 'structure_score_neg': 0.0}}"
   ]
  },
  {
   "cell_type": "markdown",
   "id": "82f1c8ab",
   "metadata": {},
   "source": [
    "/home/nub/Bachelor/bachelor-thesis/models/finqa_base_10_full - eval_12658660\n",
    "\n",
    "{'train': {'penalty_scaled': np.float64(1.8156162813769896), 'penalty_capped': np.float64(1.8156162813769896), 'penalty_uncapped': np.float64(2.3558230683090713), 'missing': 0.0, 'exact_match_accuracy': 0.10750279955207166, 'part_match_accuracy': 0.4667519863488629, 'set_match_accuracy': 0.5107822748360397, 'structure_score_norm': 0.00047992321228603423, 'structure_score_pos': 0.00013331200341278726, 'structure_score_neg': 5.332480136511491e-05},\n",
    "\n",
    "'eval': {'penalty_scaled': np.float64(1.8552102784972944), 'penalty_capped': np.float64(1.8552102784972944), 'penalty_uncapped': np.float64(2.421593053982636), 'missing': 0.0, 'exact_match_accuracy': 0.06455266138165346, 'part_match_accuracy': 0.44054360135900067, 'set_match_accuracy': 0.48818422046054843, 'structure_score_norm': 0.0, 'structure_score_pos': 0.0, 'structure_score_neg': 0.0},\n",
    "\n",
    "'test': {'penalty_scaled': np.float64(1.8606533307964646), 'penalty_capped': np.float64(1.8606533307964646), 'penalty_uncapped': np.float64(2.4337983144434765), 'missing': 0.0, 'exact_match_accuracy': 0.06451612903225806, 'part_match_accuracy': 0.4341761115954624, 'set_match_accuracy': 0.48939261842487614, 'structure_score_norm': -0.0008718395815170009, 'structure_score_pos': 0.0, 'structure_score_neg': 0.00014530659691950012}}"
   ]
  },
  {
   "cell_type": "markdown",
   "id": "5fe77cea",
   "metadata": {},
   "source": [
    "/home/nub/Bachelor/bachelor-thesis/models/finqa_base_10_full_ex - eval_12657302\n",
    "\n",
    "{'train': {'penalty_scaled': np.float64(1.999762423679127), 'penalty_capped': np.float64(1.999762423679127), 'penalty_uncapped': np.float64(3.4863995094118274), 'missing': 0.6786114221724524, 'exact_match_accuracy': 0.00015997440409534473, 'part_match_accuracy': 0.08443982296165835, 'set_match_accuracy': 0.08830587106062938, 'structure_score_norm': -0.9961606143017118, 'structure_score_pos': 0.0005599104143337066, 'structure_score_neg': 0.883058710606314},\n",
    "\n",
    "'eval': {'penalty_scaled': np.float64(1.9990343567973126), 'penalty_capped': np.float64(1.9990343567973126), 'penalty_uncapped': np.float64(3.476198565496414), 'missing': 0.6602491506228766, 'exact_match_accuracy': 0.0, 'part_match_accuracy': 0.08852397130992819, 'set_match_accuracy': 0.09211023027557562, 'structure_score_norm': -0.9920724801812004, 'structure_score_pos': 0.002642506606266516, 'structure_score_neg': 0.8727821819554527},\n",
    "\n",
    "'test': {'penalty_scaled': np.float64(1.9987539964796375), 'penalty_capped': np.float64(1.9987539964796375), 'penalty_uncapped': np.float64(3.490845684394071), 'missing': 0.6887532693984307, 'exact_match_accuracy': 0.0008718395815170009, 'part_match_accuracy': 0.08253414705027591, 'set_match_accuracy': 0.0864864864864863, 'structure_score_norm': -0.995640802092415, 'structure_score_pos': 0.00014530659691950012, 'structure_score_neg': 0.8821563498982818}}"
   ]
  },
  {
   "cell_type": "markdown",
   "id": "dec4af4f",
   "metadata": {},
   "source": [
    "/home/nub/Bachelor/bachelor-thesis/models/finqa_base_10_full_cot - eval_12658357\n",
    "\n",
    "{'train': {'penalty_scaled': np.float64(1.9991480679573799), 'penalty_capped': np.float64(1.9991480679573799), 'penalty_uncapped': np.float64(3.1259958406654937), 'missing': 0.2657174852023676, 'exact_match_accuracy': 0.0006398976163813789, 'part_match_accuracy': 0.22857676105155805, 'set_match_accuracy': 0.23272009811762895, 'structure_score_norm': -0.9955207166853304, 'structure_score_pos': 0.00021329920546045967, 'structure_score_neg': 0.7587052738228522},\n",
    "\n",
    "'eval': {'penalty_scaled': np.float64(1.9976626198858103), 'penalty_capped': np.float64(1.9976626198858103), 'penalty_uncapped': np.float64(3.1727821819554554), 'missing': 0.3171007927519819, 'exact_match_accuracy': 0.0022650056625141564, 'part_match_accuracy': 0.20989052472631284, 'set_match_accuracy': 0.2129860324650823, 'structure_score_norm': -0.9954699886749717, 'structure_score_pos': 0.0, 'structure_score_neg': 0.7757644394110959},\n",
    "\n",
    "'test': {'penalty_scaled': np.float64(1.9973834448798338), 'penalty_capped': np.float64(1.9973834448798338), 'penalty_uncapped': np.float64(3.1328247602441155), 'missing': 0.27114210985178727, 'exact_match_accuracy': 0.0026155187445510027, 'part_match_accuracy': 0.225661145015986, 'set_match_accuracy': 0.22987503632665118, 'structure_score_norm': -0.994768962510898, 'structure_score_pos': 0.0, 'structure_score_neg': 0.7587910491136226}}"
   ]
  }
 ],
 "metadata": {
  "kernelspec": {
   "display_name": "venv_thesis",
   "language": "python",
   "name": "python3"
  },
  "language_info": {
   "codemirror_mode": {
    "name": "ipython",
    "version": 3
   },
   "file_extension": ".py",
   "mimetype": "text/x-python",
   "name": "python",
   "nbconvert_exporter": "python",
   "pygments_lexer": "ipython3",
   "version": "3.12.3"
  }
 },
 "nbformat": 4,
 "nbformat_minor": 5
}
