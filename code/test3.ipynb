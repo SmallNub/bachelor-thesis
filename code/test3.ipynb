{
 "cells": [
  {
   "cell_type": "code",
   "execution_count": 1,
   "id": "6e1bbae9",
   "metadata": {},
   "outputs": [],
   "source": [
    "from transformers import AutoTokenizer, AutoModelForSeq2SeqLM\n",
    "\n",
    "MODEL_NAME = \"google/flan-t5-base\"\n",
    "MODELS_DIR = \"/home/nub/Bachelor/bachelor-thesis/models\"\n",
    "\n",
    "tokenizer = AutoTokenizer.from_pretrained(\n",
    "    MODEL_NAME,\n",
    "    cache_dir=MODELS_DIR,\n",
    "    use_fast=True\n",
    ")\n",
    "\n",
    "model = AutoModelForSeq2SeqLM.from_pretrained(\n",
    "    MODEL_NAME,\n",
    "    cache_dir=MODELS_DIR,\n",
    "    torch_dtype=\"auto\",\n",
    "    local_files_only=True,\n",
    "    low_cpu_mem_usage=True,\n",
    "    device_map=\"auto\"\n",
    ")\n",
    "\n",
    "def tokenize(prompt):\n",
    "    # Model will silently truncate above 512 tokens\n",
    "    model_inputs = tokenizer(\n",
    "        prompt,\n",
    "        truncation=True,\n",
    "        max_length=tokenizer.model_max_length,\n",
    "        return_tensors=\"pt\",\n",
    "        return_offsets_mapping=True,\n",
    "    )\n",
    "    return model_inputs"
   ]
  },
  {
   "cell_type": "code",
   "execution_count": 8,
   "id": "d9f43229",
   "metadata": {},
   "outputs": [
    {
     "name": "stdout",
     "output_type": "stream",
     "text": [
      "{'input_ids': tensor([[10403,    10, 21820,     1]]), 'attention_mask': tensor([[1, 1, 1, 1]]), 'offset_mapping': tensor([[[ 0,  3],\n",
      "         [ 3,  4],\n",
      "         [ 4, 10],\n",
      "         [ 0,  0]]])}\n",
      "Say: hello</s>\n",
      "<pad> hello</s>\n",
      "<pad>hello</s>\n",
      "['Say', ':', 'hello', '</s>']\n",
      "['<pad>', 'hello', '</s>']\n"
     ]
    }
   ],
   "source": [
    "# text = (\n",
    "#     \"Generate a question for the text: Text:\"\n",
    "#     \"I went to work on the latest software update. \"\n",
    "#     \"Many people are working on it.\"\n",
    "#     \"It will be released in the next summer.\"\n",
    "#     \"Speaking of summer, I will go on summer vacation\"\n",
    "#     \"I will be going to Germany for 4 days.\"\n",
    "#     \"Berlin seems to be a nice location at that time of the year.\"\n",
    "#     \"After the 4 days, I will go to Italy for 2 weeks.\"\n",
    "#     \"They have the nicest beaches in the summer.\"\n",
    "#     \"I hope will get a nice tan.\"\n",
    "# )\n",
    "# text = \"Repeat this once: ADI-2009-currency-exposures-libor-changes-forward-foreign\"\n",
    "text = \"Say: hello\"\n",
    "\n",
    "model_inputs = tokenize(text)\n",
    "print(model_inputs)\n",
    "generated = model.generate(model_inputs[\"input_ids\"].to(model.device), attention_mask=model_inputs[\"attention_mask\"].to(model.device), max_length=64)\n",
    "tokens_in = []\n",
    "tokens_out = []\n",
    "for token in generated[0]:\n",
    "    tokens_out.append(tokenizer.decode(token, skip_special_tokens=False))\n",
    "for token in model_inputs.input_ids[0]:\n",
    "    tokens_in.append(tokenizer.decode(token, skip_special_tokens=False))\n",
    "print(tokenizer.decode(model_inputs.input_ids[0], skip_special_tokens=False))\n",
    "print(tokenizer.decode(generated[0], skip_special_tokens=False))\n",
    "print(\"\".join(tokens_out))\n",
    "print(tokens_in)\n",
    "print(tokens_out)"
   ]
  },
  {
   "cell_type": "code",
   "execution_count": null,
   "id": "25f4d2c5",
   "metadata": {},
   "outputs": [],
   "source": []
  }
 ],
 "metadata": {
  "kernelspec": {
   "display_name": "venv_thesis",
   "language": "python",
   "name": "python3"
  },
  "language_info": {
   "codemirror_mode": {
    "name": "ipython",
    "version": 3
   },
   "file_extension": ".py",
   "mimetype": "text/x-python",
   "name": "python",
   "nbconvert_exporter": "python",
   "pygments_lexer": "ipython3",
   "version": "3.12.3"
  }
 },
 "nbformat": 4,
 "nbformat_minor": 5
}
