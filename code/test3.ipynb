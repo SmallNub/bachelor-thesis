{
 "cells": [
  {
   "cell_type": "code",
   "execution_count": null,
   "id": "6e1bbae9",
   "metadata": {},
   "outputs": [],
   "source": [
    "from custom_trainer import CustomTrainer\n",
    "\n"
   ]
  }
 ],
 "metadata": {
  "language_info": {
   "name": "python"
  }
 },
 "nbformat": 4,
 "nbformat_minor": 5
}
