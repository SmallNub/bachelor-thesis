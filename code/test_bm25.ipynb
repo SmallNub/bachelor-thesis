{
 "cells": [
  {
   "cell_type": "code",
   "execution_count": 8,
   "id": "a443dc5b",
   "metadata": {},
   "outputs": [
    {
     "data": {
      "application/vnd.jupyter.widget-view+json": {
       "model_id": "ea16a77ea9104a3aaa490e5616ed7024",
       "version_major": 2,
       "version_minor": 0
      },
      "text/plain": [
       "Split strings:   0%|          | 0/2789 [00:00<?, ?it/s]"
      ]
     },
     "metadata": {},
     "output_type": "display_data"
    },
    {
     "data": {
      "application/vnd.jupyter.widget-view+json": {
       "model_id": "0665fdd782714d3eaa824a06c8fb2c4c",
       "version_major": 2,
       "version_minor": 0
      },
      "text/plain": [
       "Stem Tokens:   0%|          | 0/2789 [00:00<?, ?it/s]"
      ]
     },
     "metadata": {},
     "output_type": "display_data"
    },
    {
     "data": {
      "application/vnd.jupyter.widget-view+json": {
       "model_id": "f194fb098ebf431e961f184f1f206abb",
       "version_major": 2,
       "version_minor": 0
      },
      "text/plain": [
       "BM25S Count Tokens:   0%|          | 0/2789 [00:00<?, ?it/s]"
      ]
     },
     "metadata": {},
     "output_type": "display_data"
    },
    {
     "data": {
      "application/vnd.jupyter.widget-view+json": {
       "model_id": "de7ad40b8dde43c8be2b5801c76c3315",
       "version_major": 2,
       "version_minor": 0
      },
      "text/plain": [
       "BM25S Compute Scores:   0%|          | 0/2789 [00:00<?, ?it/s]"
      ]
     },
     "metadata": {},
     "output_type": "display_data"
    },
    {
     "data": {
      "application/vnd.jupyter.widget-view+json": {
       "model_id": "11a2fcf701fa473788284ad4cefa9c63",
       "version_major": 2,
       "version_minor": 0
      },
      "text/plain": [
       "Split strings:   0%|          | 0/6251 [00:00<?, ?it/s]"
      ]
     },
     "metadata": {},
     "output_type": "display_data"
    },
    {
     "data": {
      "application/vnd.jupyter.widget-view+json": {
       "model_id": "7164fffa7a8c49f38e726cfc0a54c4e8",
       "version_major": 2,
       "version_minor": 0
      },
      "text/plain": [
       "Stem Tokens:   0%|          | 0/6251 [00:00<?, ?it/s]"
      ]
     },
     "metadata": {},
     "output_type": "display_data"
    },
    {
     "data": {
      "application/vnd.jupyter.widget-view+json": {
       "model_id": "293dd9cab872445b9c70dd84efd64ab6",
       "version_major": 2,
       "version_minor": 0
      },
      "text/plain": [
       "BM25S Retrieve:   0%|          | 0/6251 [00:00<?, ?it/s]"
      ]
     },
     "metadata": {},
     "output_type": "display_data"
    },
    {
     "name": "stdout",
     "output_type": "stream",
     "text": [
      "train 0.6406974884018557\n"
     ]
    },
    {
     "data": {
      "application/vnd.jupyter.widget-view+json": {
       "model_id": "2cb5121e4cdf43059589e7faf457606b",
       "version_major": 2,
       "version_minor": 0
      },
      "text/plain": [
       "Split strings:   0%|          | 0/883 [00:00<?, ?it/s]"
      ]
     },
     "metadata": {},
     "output_type": "display_data"
    },
    {
     "data": {
      "application/vnd.jupyter.widget-view+json": {
       "model_id": "d98a4cf0c9064a01b2fdbd375857f6a7",
       "version_major": 2,
       "version_minor": 0
      },
      "text/plain": [
       "Stem Tokens:   0%|          | 0/883 [00:00<?, ?it/s]"
      ]
     },
     "metadata": {},
     "output_type": "display_data"
    },
    {
     "data": {
      "application/vnd.jupyter.widget-view+json": {
       "model_id": "d9179fdac8ac4875a4efe51edb2f25ec",
       "version_major": 2,
       "version_minor": 0
      },
      "text/plain": [
       "BM25S Retrieve:   0%|          | 0/883 [00:00<?, ?it/s]"
      ]
     },
     "metadata": {},
     "output_type": "display_data"
    },
    {
     "name": "stdout",
     "output_type": "stream",
     "text": [
      "eval 0.6149490373725934\n"
     ]
    },
    {
     "data": {
      "application/vnd.jupyter.widget-view+json": {
       "model_id": "8cf67408759a485dbd1217d562aea304",
       "version_major": 2,
       "version_minor": 0
      },
      "text/plain": [
       "Split strings:   0%|          | 0/1147 [00:00<?, ?it/s]"
      ]
     },
     "metadata": {},
     "output_type": "display_data"
    },
    {
     "data": {
      "application/vnd.jupyter.widget-view+json": {
       "model_id": "bbbf7a5a57d34dd6aa79ccafa73c2d3f",
       "version_major": 2,
       "version_minor": 0
      },
      "text/plain": [
       "Stem Tokens:   0%|          | 0/1147 [00:00<?, ?it/s]"
      ]
     },
     "metadata": {},
     "output_type": "display_data"
    },
    {
     "data": {
      "application/vnd.jupyter.widget-view+json": {
       "model_id": "ba04a9725765470aa773ecbaa0c5a8f3",
       "version_major": 2,
       "version_minor": 0
      },
      "text/plain": [
       "BM25S Retrieve:   0%|          | 0/1147 [00:00<?, ?it/s]"
      ]
     },
     "metadata": {},
     "output_type": "display_data"
    },
    {
     "name": "stdout",
     "output_type": "stream",
     "text": [
      "test 0.6277244986922407\n"
     ]
    }
   ],
   "source": [
    "import pandas as pd\n",
    "import bm25s\n",
    "import Stemmer\n",
    "\n",
    "\n",
    "def preprocess(row: pd.Series, key: str):\n",
    "    company, year, *_ = row[\"document_id\"].split(\"-\")\n",
    "    processed = f\"{company}-{year}, {\" \".join(row[key].split()[:])}\"\n",
    "    return processed\n",
    "\n",
    "\n",
    "AMOUNT_QUERIES = 3\n",
    "USE_AUG = True\n",
    "\n",
    "documents_df = pd.read_csv(\"/home/nub/Bachelor/bachelor-thesis/data/processed/documents.csv\")\n",
    "documents_df[\"processed\"] = documents_df.apply(lambda x: preprocess(x, \"document\"), axis=1)\n",
    "\n",
    "corpus = []\n",
    "\n",
    "if USE_AUG:\n",
    "    documents_aug_df = pd.read_csv(\"/home/nub/Bachelor/bachelor-thesis/data/processed/documents_aug.csv\")\n",
    "\n",
    "    for i, document in enumerate(documents_df[\"processed\"]):\n",
    "        for j in range(AMOUNT_QUERIES):\n",
    "            document += \" \" + documents_aug_df[\"pseudo_query\"][i + j]\n",
    "        corpus.append(document)\n",
    "else:\n",
    "    corpus = documents_df[\"processed\"].to_list()\n",
    "\n",
    "stemmer = Stemmer.Stemmer(\"english\")\n",
    "\n",
    "# Tokenize the corpus and only keep the ids (faster and saves memory)\n",
    "corpus_tokens = bm25s.tokenize(corpus, stopwords=\"en\", stemmer=stemmer)\n",
    "\n",
    "# Create the BM25 model and index the corpus\n",
    "retriever = bm25s.BM25()\n",
    "retriever.index(corpus_tokens)\n",
    "\n",
    "docids = documents_df[\"document_id\"].to_list()\n",
    "splits = [\"train\", \"eval\", \"test\"]\n",
    "\n",
    "query_splits = {split: [] for split in splits}\n",
    "\n",
    "for split in splits:\n",
    "    query_df = pd.read_csv(f\"/home/nub/Bachelor/bachelor-thesis/data/processed/{split}.csv\")\n",
    "    query_df[\"processed\"] = query_df.apply(lambda x: preprocess(x, \"question\"), axis=1)\n",
    "    queries = query_df[\"processed\"].to_list()\n",
    "    \n",
    "    query_tokens = bm25s.tokenize(queries, stopwords=\"en\", stemmer=stemmer)\n",
    "    results, scores = retriever.retrieve(query_tokens, corpus=docids, k=1, n_threads=-1)\n",
    "    \n",
    "    correct = 0\n",
    "    for hits, docid in zip(results, query_df[\"document_id\"]):\n",
    "        correct += docid in hits\n",
    "\n",
    "    print(split, correct / len(query_df))\n",
    "    query_splits[split] = results"
   ]
  },
  {
   "cell_type": "code",
   "execution_count": null,
   "id": "6246b4c4",
   "metadata": {},
   "outputs": [],
   "source": [
    "# train 0.3199488081906895\n",
    "# eval 0.3023782559456399\n",
    "# test 0.3086312118570183\n",
    "\n",
    "# train 0.6445368741001439\n",
    "# eval 0.6104190260475651\n",
    "# test 0.6390584132519617"
   ]
  },
  {
   "cell_type": "code",
   "execution_count": 18,
   "id": "3f32fc41",
   "metadata": {},
   "outputs": [
    {
     "name": "stdout",
     "output_type": "stream",
     "text": [
      "1\n",
      "1\n"
     ]
    }
   ],
   "source": [
    "c = {\"a\": 1}\n",
    "\n",
    "def b(a=0):\n",
    "    print(a)\n",
    "\n",
    "def a(**d):\n",
    "    def c():\n",
    "        b(**d)\n",
    "    return c\n",
    "\n",
    "a(**c)()\n",
    "a(**c)()"
   ]
  },
  {
   "cell_type": "code",
   "execution_count": 64,
   "id": "2117aa9d",
   "metadata": {},
   "outputs": [
    {
     "name": "stdout",
     "output_type": "stream",
     "text": [
      "7.38905609893065\n",
      "2.718281828459045\n",
      "2.163150809805681\n",
      "2.1939224684724348\n"
     ]
    }
   ],
   "source": [
    "import numpy as np\n",
    "\n",
    "print(np.exp(2))\n",
    "print(np.exp(2 - 1))\n",
    "print(np.log(3.2) + 1)\n",
    "print(np.log(3.3) + 1)"
   ]
  },
  {
   "cell_type": "code",
   "execution_count": 42,
   "id": "bffea886",
   "metadata": {},
   "outputs": [
    {
     "name": "stdout",
     "output_type": "stream",
     "text": [
      "7.38905609893065\n",
      "3.0\n",
      "3.0\n"
     ]
    }
   ],
   "source": [
    "print(np.exp(2))\n",
    "print(np.log(7.38905609893065) + 1)\n",
    "print(np.log(7.38905609893065 * np.e))"
   ]
  }
 ],
 "metadata": {
  "kernelspec": {
   "display_name": "venv_thesis",
   "language": "python",
   "name": "python3"
  },
  "language_info": {
   "codemirror_mode": {
    "name": "ipython",
    "version": 3
   },
   "file_extension": ".py",
   "mimetype": "text/x-python",
   "name": "python",
   "nbconvert_exporter": "python",
   "pygments_lexer": "ipython3",
   "version": "3.12.3"
  }
 },
 "nbformat": 4,
 "nbformat_minor": 5
}
