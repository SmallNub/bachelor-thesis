{
 "cells": [
  {
   "cell_type": "code",
   "execution_count": 6,
   "id": "a443dc5b",
   "metadata": {},
   "outputs": [
    {
     "data": {
      "application/vnd.jupyter.widget-view+json": {
       "model_id": "7ab21b4a9fa5403abbdba120ce1e3562",
       "version_major": 2,
       "version_minor": 0
      },
      "text/plain": [
       "Split strings:   0%|          | 0/2789 [00:00<?, ?it/s]"
      ]
     },
     "metadata": {},
     "output_type": "display_data"
    },
    {
     "data": {
      "application/vnd.jupyter.widget-view+json": {
       "model_id": "6221c9d62ada49dc9c28a26af90e16bc",
       "version_major": 2,
       "version_minor": 0
      },
      "text/plain": [
       "Stem Tokens:   0%|          | 0/2789 [00:00<?, ?it/s]"
      ]
     },
     "metadata": {},
     "output_type": "display_data"
    },
    {
     "data": {
      "application/vnd.jupyter.widget-view+json": {
       "model_id": "5d0127166cf2491182df310efa982e0e",
       "version_major": 2,
       "version_minor": 0
      },
      "text/plain": [
       "BM25S Count Tokens:   0%|          | 0/2789 [00:00<?, ?it/s]"
      ]
     },
     "metadata": {},
     "output_type": "display_data"
    },
    {
     "data": {
      "application/vnd.jupyter.widget-view+json": {
       "model_id": "010c31206ebc47c1b79b3c2a55c1349b",
       "version_major": 2,
       "version_minor": 0
      },
      "text/plain": [
       "BM25S Compute Scores:   0%|          | 0/2789 [00:00<?, ?it/s]"
      ]
     },
     "metadata": {},
     "output_type": "display_data"
    },
    {
     "data": {
      "application/vnd.jupyter.widget-view+json": {
       "model_id": "c2e4cfe18f254ef5888276c378effd2b",
       "version_major": 2,
       "version_minor": 0
      },
      "text/plain": [
       "Split strings:   0%|          | 0/6251 [00:00<?, ?it/s]"
      ]
     },
     "metadata": {},
     "output_type": "display_data"
    },
    {
     "data": {
      "application/vnd.jupyter.widget-view+json": {
       "model_id": "f6f9c3534a5b4c93966e1829bf98ebd4",
       "version_major": 2,
       "version_minor": 0
      },
      "text/plain": [
       "Stem Tokens:   0%|          | 0/6251 [00:00<?, ?it/s]"
      ]
     },
     "metadata": {},
     "output_type": "display_data"
    },
    {
     "data": {
      "application/vnd.jupyter.widget-view+json": {
       "model_id": "640ea38cda8c436a927b803365510653",
       "version_major": 2,
       "version_minor": 0
      },
      "text/plain": [
       "BM25S Retrieve:   0%|          | 0/6251 [00:00<?, ?it/s]"
      ]
     },
     "metadata": {},
     "output_type": "display_data"
    },
    {
     "name": "stdout",
     "output_type": "stream",
     "text": [
      "train 0.6283794592865142\n"
     ]
    },
    {
     "data": {
      "application/vnd.jupyter.widget-view+json": {
       "model_id": "4709d1f393264f998ab477dbbeca2390",
       "version_major": 2,
       "version_minor": 0
      },
      "text/plain": [
       "Split strings:   0%|          | 0/883 [00:00<?, ?it/s]"
      ]
     },
     "metadata": {},
     "output_type": "display_data"
    },
    {
     "data": {
      "application/vnd.jupyter.widget-view+json": {
       "model_id": "b149bae77de4498a9d5254c21d81da53",
       "version_major": 2,
       "version_minor": 0
      },
      "text/plain": [
       "Stem Tokens:   0%|          | 0/883 [00:00<?, ?it/s]"
      ]
     },
     "metadata": {},
     "output_type": "display_data"
    },
    {
     "data": {
      "application/vnd.jupyter.widget-view+json": {
       "model_id": "f0ba8b13244242309c30cfd4933c788c",
       "version_major": 2,
       "version_minor": 0
      },
      "text/plain": [
       "BM25S Retrieve:   0%|          | 0/883 [00:00<?, ?it/s]"
      ]
     },
     "metadata": {},
     "output_type": "display_data"
    },
    {
     "name": "stdout",
     "output_type": "stream",
     "text": [
      "eval 0.6013590033975085\n"
     ]
    },
    {
     "data": {
      "application/vnd.jupyter.widget-view+json": {
       "model_id": "3f1fed0b452144f9b37fbf19bd77d565",
       "version_major": 2,
       "version_minor": 0
      },
      "text/plain": [
       "Split strings:   0%|          | 0/1147 [00:00<?, ?it/s]"
      ]
     },
     "metadata": {},
     "output_type": "display_data"
    },
    {
     "data": {
      "application/vnd.jupyter.widget-view+json": {
       "model_id": "8c237aa3ba5b4b55bc220ad87a81e7a6",
       "version_major": 2,
       "version_minor": 0
      },
      "text/plain": [
       "Stem Tokens:   0%|          | 0/1147 [00:00<?, ?it/s]"
      ]
     },
     "metadata": {},
     "output_type": "display_data"
    },
    {
     "data": {
      "application/vnd.jupyter.widget-view+json": {
       "model_id": "0795a89830764e2ab5a68daa374de374",
       "version_major": 2,
       "version_minor": 0
      },
      "text/plain": [
       "BM25S Retrieve:   0%|          | 0/1147 [00:00<?, ?it/s]"
      ]
     },
     "metadata": {},
     "output_type": "display_data"
    },
    {
     "name": "stdout",
     "output_type": "stream",
     "text": [
      "test 0.6190061028770706\n"
     ]
    }
   ],
   "source": [
    "import pandas as pd\n",
    "import bm25s\n",
    "import Stemmer\n",
    "\n",
    "\n",
    "def preprocess(row: pd.Series, key: str):\n",
    "    company, year, *_ = row[\"document_id\"].split(\"-\")\n",
    "    processed = f\"{company}-{year}, {\" \".join(row[key].split()[:])}\"\n",
    "    return processed\n",
    "\n",
    "\n",
    "AMOUNT_QUERIES = 10\n",
    "USE_AUG = True\n",
    "\n",
    "documents_df = pd.read_csv(\"/home/nub/Bachelor/bachelor-thesis/data/processed/documents.csv\")\n",
    "documents_df[\"processed\"] = documents_df.apply(lambda x: preprocess(x, \"document\"), axis=1)\n",
    "\n",
    "corpus = []\n",
    "\n",
    "if USE_AUG:\n",
    "    documents_aug_df = pd.read_csv(\"/home/nub/Bachelor/bachelor-thesis/data/processed/documents_aug.csv\")\n",
    "\n",
    "    for i, document in enumerate(documents_df[\"processed\"]):\n",
    "        for j in range(AMOUNT_QUERIES):\n",
    "            document += \" \" + documents_aug_df[\"pseudo_query\"][i + j]\n",
    "        corpus.append(document)\n",
    "else:\n",
    "    corpus = documents_df[\"processed\"].to_list()\n",
    "\n",
    "stemmer = Stemmer.Stemmer(\"english\")\n",
    "\n",
    "# Tokenize the corpus and only keep the ids (faster and saves memory)\n",
    "corpus_tokens = bm25s.tokenize(corpus, stopwords=\"en\", stemmer=stemmer)\n",
    "\n",
    "# Create the BM25 model and index the corpus\n",
    "retriever = bm25s.BM25()\n",
    "retriever.index(corpus_tokens)\n",
    "\n",
    "docids = documents_df[\"document_id\"].to_list()\n",
    "splits = [\"train\", \"eval\", \"test\"]\n",
    "\n",
    "query_splits = {split: [] for split in splits}\n",
    "\n",
    "for split in splits:\n",
    "    query_df = pd.read_csv(f\"/home/nub/Bachelor/bachelor-thesis/data/processed/{split}.csv\")\n",
    "    query_df[\"processed\"] = query_df.apply(lambda x: preprocess(x, \"question\"), axis=1)\n",
    "    queries = query_df[\"processed\"].to_list()\n",
    "    \n",
    "    query_tokens = bm25s.tokenize(queries, stopwords=\"en\", stemmer=stemmer)\n",
    "    results, scores = retriever.retrieve(query_tokens, corpus=docids, k=1, n_threads=-1)\n",
    "    \n",
    "    correct = 0\n",
    "    for hits, docid in zip(results, query_df[\"document_id\"]):\n",
    "        correct += docid in hits\n",
    "\n",
    "    print(split, correct / len(query_df))\n",
    "    query_splits[split] = results"
   ]
  }
 ],
 "metadata": {
  "kernelspec": {
   "display_name": "venv_thesis",
   "language": "python",
   "name": "python3"
  },
  "language_info": {
   "codemirror_mode": {
    "name": "ipython",
    "version": 3
   },
   "file_extension": ".py",
   "mimetype": "text/x-python",
   "name": "python",
   "nbconvert_exporter": "python",
   "pygments_lexer": "ipython3",
   "version": "3.12.3"
  }
 },
 "nbformat": 4,
 "nbformat_minor": 5
}
