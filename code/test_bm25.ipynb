{
 "cells": [
  {
   "cell_type": "code",
   "execution_count": null,
   "id": "a443dc5b",
   "metadata": {},
   "outputs": [
    {
     "data": {
      "application/vnd.jupyter.widget-view+json": {
       "model_id": "13b55cd49db946b19ab71f62b1ab04e8",
       "version_major": 2,
       "version_minor": 0
      },
      "text/plain": [
       "Split strings:   0%|          | 0/2789 [00:00<?, ?it/s]"
      ]
     },
     "metadata": {},
     "output_type": "display_data"
    },
    {
     "data": {
      "application/vnd.jupyter.widget-view+json": {
       "model_id": "4d0ebdd602be4efd955f90f6babc30d5",
       "version_major": 2,
       "version_minor": 0
      },
      "text/plain": [
       "Stem Tokens:   0%|          | 0/2789 [00:00<?, ?it/s]"
      ]
     },
     "metadata": {},
     "output_type": "display_data"
    },
    {
     "data": {
      "application/vnd.jupyter.widget-view+json": {
       "model_id": "48e07225cb284011a6fd6c2fae482a05",
       "version_major": 2,
       "version_minor": 0
      },
      "text/plain": [
       "BM25S Count Tokens:   0%|          | 0/2789 [00:00<?, ?it/s]"
      ]
     },
     "metadata": {},
     "output_type": "display_data"
    },
    {
     "data": {
      "application/vnd.jupyter.widget-view+json": {
       "model_id": "1254869441774b3aaacf01e89f8b2c2f",
       "version_major": 2,
       "version_minor": 0
      },
      "text/plain": [
       "BM25S Compute Scores:   0%|          | 0/2789 [00:00<?, ?it/s]"
      ]
     },
     "metadata": {},
     "output_type": "display_data"
    },
    {
     "data": {
      "application/vnd.jupyter.widget-view+json": {
       "model_id": "b5bdef59a0e94895ac26994f21f94cb7",
       "version_major": 2,
       "version_minor": 0
      },
      "text/plain": [
       "Split strings:   0%|          | 0/6251 [00:00<?, ?it/s]"
      ]
     },
     "metadata": {},
     "output_type": "display_data"
    },
    {
     "data": {
      "application/vnd.jupyter.widget-view+json": {
       "model_id": "0248bc0e45174373986a8fb7720785a5",
       "version_major": 2,
       "version_minor": 0
      },
      "text/plain": [
       "Stem Tokens:   0%|          | 0/6251 [00:00<?, ?it/s]"
      ]
     },
     "metadata": {},
     "output_type": "display_data"
    },
    {
     "data": {
      "application/vnd.jupyter.widget-view+json": {
       "model_id": "86532c46284f4aaf8e03c7a828618492",
       "version_major": 2,
       "version_minor": 0
      },
      "text/plain": [
       "BM25S Retrieve:   0%|          | 0/6251 [00:00<?, ?it/s]"
      ]
     },
     "metadata": {},
     "output_type": "display_data"
    },
    {
     "name": "stdout",
     "output_type": "stream",
     "text": [
      "train 0.6445368741001439\n"
     ]
    },
    {
     "data": {
      "application/vnd.jupyter.widget-view+json": {
       "model_id": "41a3555f6125470ab5dc06c132a177e1",
       "version_major": 2,
       "version_minor": 0
      },
      "text/plain": [
       "Split strings:   0%|          | 0/883 [00:00<?, ?it/s]"
      ]
     },
     "metadata": {},
     "output_type": "display_data"
    },
    {
     "data": {
      "application/vnd.jupyter.widget-view+json": {
       "model_id": "767f2bfa5d1346b2a68bfca893565afd",
       "version_major": 2,
       "version_minor": 0
      },
      "text/plain": [
       "Stem Tokens:   0%|          | 0/883 [00:00<?, ?it/s]"
      ]
     },
     "metadata": {},
     "output_type": "display_data"
    },
    {
     "data": {
      "application/vnd.jupyter.widget-view+json": {
       "model_id": "d273fb21b2ab44f9adbf433f8568e942",
       "version_major": 2,
       "version_minor": 0
      },
      "text/plain": [
       "BM25S Retrieve:   0%|          | 0/883 [00:00<?, ?it/s]"
      ]
     },
     "metadata": {},
     "output_type": "display_data"
    },
    {
     "name": "stdout",
     "output_type": "stream",
     "text": [
      "eval 0.6104190260475651\n"
     ]
    },
    {
     "data": {
      "application/vnd.jupyter.widget-view+json": {
       "model_id": "2aa39e97514047af99165bbfa9754e35",
       "version_major": 2,
       "version_minor": 0
      },
      "text/plain": [
       "Split strings:   0%|          | 0/1147 [00:00<?, ?it/s]"
      ]
     },
     "metadata": {},
     "output_type": "display_data"
    },
    {
     "data": {
      "application/vnd.jupyter.widget-view+json": {
       "model_id": "ca9fafea66ed4999a63facb3ba0b0e97",
       "version_major": 2,
       "version_minor": 0
      },
      "text/plain": [
       "Stem Tokens:   0%|          | 0/1147 [00:00<?, ?it/s]"
      ]
     },
     "metadata": {},
     "output_type": "display_data"
    },
    {
     "data": {
      "application/vnd.jupyter.widget-view+json": {
       "model_id": "81b867a137bc449ba3e15476037131a1",
       "version_major": 2,
       "version_minor": 0
      },
      "text/plain": [
       "BM25S Retrieve:   0%|          | 0/1147 [00:00<?, ?it/s]"
      ]
     },
     "metadata": {},
     "output_type": "display_data"
    },
    {
     "name": "stdout",
     "output_type": "stream",
     "text": [
      "test 0.6390584132519617\n"
     ]
    }
   ],
   "source": [
    "import pandas as pd\n",
    "import bm25s\n",
    "import Stemmer\n",
    "\n",
    "\n",
    "def preprocess(row: pd.Series, key: str):\n",
    "    company, year, *_ = row[\"document_id\"].split(\"-\")\n",
    "    processed = f\"{company}-{year}, {\" \".join(row[key].split()[:])}\"\n",
    "    return processed\n",
    "\n",
    "\n",
    "AMOUNT_QUERIES = 3\n",
    "USE_AUG = True\n",
    "\n",
    "documents_df = pd.read_csv(\"/home/nub/Bachelor/bachelor-thesis/data/processed/documents.csv\")\n",
    "documents_df[\"processed\"] = documents_df.apply(lambda x: preprocess(x, \"document\"), axis=1)\n",
    "\n",
    "corpus = []\n",
    "\n",
    "if USE_AUG:\n",
    "    documents_aug_df = pd.read_csv(\"/home/nub/Bachelor/bachelor-thesis/data/processed/documents_aug.csv\")\n",
    "\n",
    "    for i, document in enumerate(documents_df[\"processed\"]):\n",
    "        for j in range(AMOUNT_QUERIES):\n",
    "            document += \" \" + documents_aug_df[\"pseudo_query\"][i + j]\n",
    "        corpus.append(document)\n",
    "else:\n",
    "    corpus = documents_df[\"processed\"].to_list()\n",
    "\n",
    "stemmer = Stemmer.Stemmer(\"english\")\n",
    "\n",
    "# Tokenize the corpus and only keep the ids (faster and saves memory)\n",
    "corpus_tokens = bm25s.tokenize(corpus, stopwords=\"en\", stemmer=stemmer)\n",
    "\n",
    "# Create the BM25 model and index the corpus\n",
    "retriever = bm25s.BM25()\n",
    "retriever.index(corpus_tokens)\n",
    "\n",
    "docids = documents_df[\"document_id\"].to_list()\n",
    "splits = [\"train\", \"eval\", \"test\"]\n",
    "\n",
    "query_splits = {split: [] for split in splits}\n",
    "\n",
    "for split in splits:\n",
    "    query_df = pd.read_csv(f\"/home/nub/Bachelor/bachelor-thesis/data/processed/{split}.csv\")\n",
    "    query_df[\"processed\"] = query_df.apply(lambda x: preprocess(x, \"question\"), axis=1)\n",
    "    queries = query_df[\"processed\"].to_list()\n",
    "    \n",
    "    query_tokens = bm25s.tokenize(queries, stopwords=\"en\", stemmer=stemmer)\n",
    "    results, scores = retriever.retrieve(query_tokens, corpus=docids, k=1, n_threads=-1)\n",
    "    \n",
    "    correct = 0\n",
    "    for hits, docid in zip(results, query_df[\"document_id\"]):\n",
    "        correct += docid in hits\n",
    "\n",
    "    print(split, correct / len(query_df))\n",
    "    query_splits[split] = results"
   ]
  },
  {
   "cell_type": "code",
   "execution_count": null,
   "id": "6246b4c4",
   "metadata": {},
   "outputs": [],
   "source": [
    "# train 0.3199488081906895\n",
    "# eval 0.3023782559456399\n",
    "# test 0.3086312118570183\n",
    "\n",
    "# train 0.6445368741001439\n",
    "# eval 0.6104190260475651\n",
    "# test 0.6390584132519617"
   ]
  }
 ],
 "metadata": {
  "kernelspec": {
   "display_name": "venv_thesis",
   "language": "python",
   "name": "python3"
  },
  "language_info": {
   "codemirror_mode": {
    "name": "ipython",
    "version": 3
   },
   "file_extension": ".py",
   "mimetype": "text/x-python",
   "name": "python",
   "nbconvert_exporter": "python",
   "pygments_lexer": "ipython3",
   "version": "3.12.3"
  }
 },
 "nbformat": 4,
 "nbformat_minor": 5
}
