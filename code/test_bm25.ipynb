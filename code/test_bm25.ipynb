{
 "cells": [
  {
   "cell_type": "code",
   "execution_count": null,
   "id": "a443dc5b",
   "metadata": {},
   "outputs": [
    {
     "data": {
      "application/vnd.jupyter.widget-view+json": {
       "model_id": "321e4f30dc2249f0a62251593135047d",
       "version_major": 2,
       "version_minor": 0
      },
      "text/plain": [
       "Split strings:   0%|          | 0/2789 [00:00<?, ?it/s]"
      ]
     },
     "metadata": {},
     "output_type": "display_data"
    },
    {
     "data": {
      "application/vnd.jupyter.widget-view+json": {
       "model_id": "0fac63f433f54c45a04b5bb08e8360ab",
       "version_major": 2,
       "version_minor": 0
      },
      "text/plain": [
       "Stem Tokens:   0%|          | 0/2789 [00:00<?, ?it/s]"
      ]
     },
     "metadata": {},
     "output_type": "display_data"
    },
    {
     "data": {
      "application/vnd.jupyter.widget-view+json": {
       "model_id": "3352701a0a1c4d98ac98f444c7fa64d3",
       "version_major": 2,
       "version_minor": 0
      },
      "text/plain": [
       "BM25S Count Tokens:   0%|          | 0/2789 [00:00<?, ?it/s]"
      ]
     },
     "metadata": {},
     "output_type": "display_data"
    },
    {
     "data": {
      "application/vnd.jupyter.widget-view+json": {
       "model_id": "44e108efda3945aebfce4c1b06b53021",
       "version_major": 2,
       "version_minor": 0
      },
      "text/plain": [
       "BM25S Compute Scores:   0%|          | 0/2789 [00:00<?, ?it/s]"
      ]
     },
     "metadata": {},
     "output_type": "display_data"
    },
    {
     "data": {
      "application/vnd.jupyter.widget-view+json": {
       "model_id": "57bb578dd96743918d6178077052f19f",
       "version_major": 2,
       "version_minor": 0
      },
      "text/plain": [
       "Split strings:   0%|          | 0/6251 [00:00<?, ?it/s]"
      ]
     },
     "metadata": {},
     "output_type": "display_data"
    },
    {
     "data": {
      "application/vnd.jupyter.widget-view+json": {
       "model_id": "0f7a8217b82d4fd4802e3a8469581279",
       "version_major": 2,
       "version_minor": 0
      },
      "text/plain": [
       "Stem Tokens:   0%|          | 0/6251 [00:00<?, ?it/s]"
      ]
     },
     "metadata": {},
     "output_type": "display_data"
    },
    {
     "data": {
      "application/vnd.jupyter.widget-view+json": {
       "model_id": "a8cc2efd57864291a9a81ac50a916d4f",
       "version_major": 2,
       "version_minor": 0
      },
      "text/plain": [
       "BM25S Retrieve:   0%|          | 0/6251 [00:00<?, ?it/s]"
      ]
     },
     "metadata": {},
     "output_type": "display_data"
    },
    {
     "name": "stdout",
     "output_type": "stream",
     "text": [
      "train 0.6286994080947048\n"
     ]
    },
    {
     "data": {
      "application/vnd.jupyter.widget-view+json": {
       "model_id": "b052e30a31834ef6aee7a93b77b0c15d",
       "version_major": 2,
       "version_minor": 0
      },
      "text/plain": [
       "Split strings:   0%|          | 0/883 [00:00<?, ?it/s]"
      ]
     },
     "metadata": {},
     "output_type": "display_data"
    },
    {
     "data": {
      "application/vnd.jupyter.widget-view+json": {
       "model_id": "4ffb63da4ffa4c1980568aad3ed0a98d",
       "version_major": 2,
       "version_minor": 0
      },
      "text/plain": [
       "Stem Tokens:   0%|          | 0/883 [00:00<?, ?it/s]"
      ]
     },
     "metadata": {},
     "output_type": "display_data"
    },
    {
     "data": {
      "application/vnd.jupyter.widget-view+json": {
       "model_id": "b117e0399ee047399973bee0f1ec2976",
       "version_major": 2,
       "version_minor": 0
      },
      "text/plain": [
       "BM25S Retrieve:   0%|          | 0/883 [00:00<?, ?it/s]"
      ]
     },
     "metadata": {},
     "output_type": "display_data"
    },
    {
     "name": "stdout",
     "output_type": "stream",
     "text": [
      "eval 0.622876557191393\n"
     ]
    },
    {
     "data": {
      "application/vnd.jupyter.widget-view+json": {
       "model_id": "af0cf1aa0c854830856263e46fb738b5",
       "version_major": 2,
       "version_minor": 0
      },
      "text/plain": [
       "Split strings:   0%|          | 0/1147 [00:00<?, ?it/s]"
      ]
     },
     "metadata": {},
     "output_type": "display_data"
    },
    {
     "data": {
      "application/vnd.jupyter.widget-view+json": {
       "model_id": "b418109220ab4517ab46b227ad104af8",
       "version_major": 2,
       "version_minor": 0
      },
      "text/plain": [
       "Stem Tokens:   0%|          | 0/1147 [00:00<?, ?it/s]"
      ]
     },
     "metadata": {},
     "output_type": "display_data"
    },
    {
     "data": {
      "application/vnd.jupyter.widget-view+json": {
       "model_id": "1fd51d86d0594380b0bfb2ed3a8711c8",
       "version_major": 2,
       "version_minor": 0
      },
      "text/plain": [
       "BM25S Retrieve:   0%|          | 0/1147 [00:00<?, ?it/s]"
      ]
     },
     "metadata": {},
     "output_type": "display_data"
    },
    {
     "name": "stdout",
     "output_type": "stream",
     "text": [
      "test 0.6251089799476897\n"
     ]
    }
   ],
   "source": [
    "import pandas as pd\n",
    "import bm25s\n",
    "import Stemmer\n",
    "\n",
    "\n",
    "def preprocess(row: pd.Series, key: str):\n",
    "    company, year, *_ = row[\"document_id\"].split(\"-\")\n",
    "    processed = f\"{company}-{year}, {\" \".join(row[key].split()[:])}\"\n",
    "    return processed\n",
    "\n",
    "\n",
    "AMOUNT_QUERIES = 10\n",
    "USE_AUG = True\n",
    "\n",
    "documents_df = pd.read_csv(\"/home/nub/Bachelor/bachelor-thesis/data/processed/documents.csv\")\n",
    "documents_df[\"processed\"] = documents_df.apply(lambda x: preprocess(x, \"document\"), axis=1)\n",
    "\n",
    "corpus = []\n",
    "\n",
    "if USE_AUG:\n",
    "    documents_aug_df = pd.read_csv(\"/home/nub/Bachelor/bachelor-thesis/data/processed/documents_aug.csv\")\n",
    "\n",
    "    for i, document in enumerate(documents_df[\"processed\"]):\n",
    "        for j in range(AMOUNT_QUERIES):\n",
    "            document += \" \" + documents_aug_df[\"pseudo_query\"][i + j]\n",
    "        corpus.append(document)\n",
    "else:\n",
    "    corpus = documents_df[\"processed\"].to_list()\n",
    "\n",
    "stemmer = Stemmer.Stemmer(\"english\")\n",
    "\n",
    "# Tokenize the corpus and only keep the ids (faster and saves memory)\n",
    "corpus_tokens = bm25s.tokenize(corpus, stopwords=\"en\", stemmer=stemmer)\n",
    "\n",
    "# Create the BM25 model and index the corpus\n",
    "retriever = bm25s.BM25()\n",
    "retriever.index(corpus_tokens)\n",
    "\n",
    "docids = documents_df[\"document_id\"].to_list()\n",
    "splits = [\"train\", \"eval\", \"test\"]\n",
    "\n",
    "query_splits = {split: [] for split in splits}\n",
    "\n",
    "for split in splits:\n",
    "    query_df = pd.read_csv(f\"/home/nub/Bachelor/bachelor-thesis/data/processed/{split}.csv\")\n",
    "    query_df[\"processed\"] = query_df.apply(lambda x: preprocess(x, \"question\"), axis=1)\n",
    "    queries = query_df[\"processed\"].to_list()\n",
    "    \n",
    "    query_tokens = bm25s.tokenize(queries, stopwords=\"en\", stemmer=stemmer)\n",
    "    results, scores = retriever.retrieve(query_tokens, corpus=docids, k=1, n_threads=-1)\n",
    "    \n",
    "    correct = 0\n",
    "    for hits, docid in zip(results, query_df[\"document_id\"]):\n",
    "        correct += docid in hits\n",
    "\n",
    "    print(split, correct / len(query_df))\n",
    "    query_splits[split] = results"
   ]
  },
  {
   "cell_type": "code",
   "execution_count": null,
   "id": "6246b4c4",
   "metadata": {},
   "outputs": [],
   "source": [
    "# train 0.3199488081906895\n",
    "# eval 0.3023782559456399\n",
    "# test 0.3086312118570183\n",
    "\n",
    "# train 0.6445368741001439\n",
    "# eval 0.6104190260475651\n",
    "# test 0.6390584132519617"
   ]
  },
  {
   "cell_type": "code",
   "execution_count": 13,
   "id": "2117aa9d",
   "metadata": {},
   "outputs": [
    {
     "name": "stdout",
     "output_type": "stream",
     "text": [
      "7.38905609893065\n",
      "2.718281828459045\n",
      "2.163150809805681\n",
      "2.1939224684724348\n",
      "6.0\n"
     ]
    }
   ],
   "source": [
    "import numpy as np\n",
    "\n",
    "print(np.exp(2))\n",
    "print(np.exp(2 - 1))\n",
    "print(np.log(3.2) + 1)\n",
    "print(np.log(3.3) + 1)\n",
    "print(np.log2(64))"
   ]
  },
  {
   "cell_type": "code",
   "execution_count": 42,
   "id": "bffea886",
   "metadata": {},
   "outputs": [
    {
     "name": "stdout",
     "output_type": "stream",
     "text": [
      "7.38905609893065\n",
      "3.0\n",
      "3.0\n"
     ]
    }
   ],
   "source": [
    "print(np.exp(2))\n",
    "print(np.log(7.38905609893065) + 1)\n",
    "print(np.log(7.38905609893065 * np.e))"
   ]
  }
 ],
 "metadata": {
  "kernelspec": {
   "display_name": "venv_thesis",
   "language": "python",
   "name": "python3"
  },
  "language_info": {
   "codemirror_mode": {
    "name": "ipython",
    "version": 3
   },
   "file_extension": ".py",
   "mimetype": "text/x-python",
   "name": "python",
   "nbconvert_exporter": "python",
   "pygments_lexer": "ipython3",
   "version": "3.12.3"
  }
 },
 "nbformat": 4,
 "nbformat_minor": 5
}
