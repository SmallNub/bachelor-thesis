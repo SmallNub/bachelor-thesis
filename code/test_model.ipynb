{
 "cells": [
  {
   "cell_type": "code",
   "execution_count": 1,
   "id": "6e1bbae9",
   "metadata": {},
   "outputs": [],
   "source": [
    "from transformers import AutoTokenizer, AutoModelForSeq2SeqLM\n",
    "\n",
    "MODEL_NAME = \"google/flan-t5-base\"\n",
    "MODELS_DIR = \"/home/nub/Bachelor/bachelor-thesis/models\"\n",
    "\n",
    "tokenizer = AutoTokenizer.from_pretrained(\n",
    "    MODEL_NAME,\n",
    "    cache_dir=MODELS_DIR,\n",
    "    use_fast=True\n",
    ")\n",
    "\n",
    "model = AutoModelForSeq2SeqLM.from_pretrained(\n",
    "    MODEL_NAME,\n",
    "    cache_dir=MODELS_DIR,\n",
    "    torch_dtype=\"auto\",\n",
    "    local_files_only=True,\n",
    "    low_cpu_mem_usage=True,\n",
    "    device_map=\"auto\"\n",
    ")\n",
    "\n",
    "def tokenize(prompt):\n",
    "    # Model will silently truncate above 512 tokens\n",
    "    model_inputs = tokenizer(\n",
    "        prompt,\n",
    "        truncation=True,\n",
    "        max_length=tokenizer.model_max_length,\n",
    "        return_tensors=\"pt\",\n",
    "        return_offsets_mapping=True,\n",
    "    )\n",
    "    return model_inputs"
   ]
  },
  {
   "cell_type": "code",
   "execution_count": 10,
   "id": "77b67d99",
   "metadata": {},
   "outputs": [
    {
     "name": "stdout",
     "output_type": "stream",
     "text": [
      "65\n"
     ]
    },
    {
     "data": {
      "text/plain": [
       "{'company': [(8, 11)],\n",
       " 'year': [(12, 16)],\n",
       " 'keyword': [(17, 35), (36, 49), (50, 65)],\n",
       " 'structure': [(8, 65)]}"
      ]
     },
     "execution_count": 10,
     "metadata": {},
     "output_type": "execute_result"
    }
   ],
   "source": [
    "import re\n",
    "\n",
    "def find_docid_component_spans(text, company, year, keyword_pairs):\n",
    "    spans = {\n",
    "        \"company\": [],\n",
    "        \"year\": [],\n",
    "        \"keyword\": [],\n",
    "        \"structure\": [],\n",
    "    }\n",
    "\n",
    "    # Build docid regex\n",
    "    keyword_parts = [re.escape(k1) + \"-\" + re.escape(k2) for k1, k2 in keyword_pairs]\n",
    "    full_docid_pattern = (\n",
    "        re.escape(company) + \"-\" +\n",
    "        re.escape(year) + \"-\" +\n",
    "        \"-\".join(keyword_parts)\n",
    "    )\n",
    "\n",
    "    # Match full docid string in the text\n",
    "    docid_match = re.search(full_docid_pattern, text)\n",
    "    if docid_match:\n",
    "        start, end = docid_match.span()\n",
    "        spans[\"structure\"].append((start, end))\n",
    "\n",
    "        # Now find subspans within the full match\n",
    "        docid_text = text[start:end]\n",
    "        offset = start\n",
    "\n",
    "        # Match company\n",
    "        comp_match = re.search(re.escape(company), docid_text)\n",
    "        if comp_match:\n",
    "            spans[\"company\"].append((offset + comp_match.start(), offset + comp_match.end()))\n",
    "\n",
    "        # Match year\n",
    "        year_match = re.search(re.escape(year), docid_text)\n",
    "        if year_match:\n",
    "            spans[\"year\"].append((offset + year_match.start(), offset + year_match.end()))\n",
    "\n",
    "        # Match keyword pairs\n",
    "        for k1, k2 in keyword_pairs:\n",
    "            kw_pattern = re.escape(k1) + \"-\" + re.escape(k2)\n",
    "            kw_match = re.search(kw_pattern, docid_text)\n",
    "            if kw_match:\n",
    "                spans[\"keyword\"].append((offset + kw_match.start(), offset + kw_match.end()))\n",
    "    else:\n",
    "        # DocID not found — return empty spans, signal model with high loss elsewhere\n",
    "        spans[\"missing\"] = True\n",
    "\n",
    "    return spans\n",
    "\n",
    "\n",
    "def encode_with_weights(example, tokenizer):\n",
    "    encoding = tokenizer(\n",
    "        example[\"text\"],\n",
    "        truncation=True,\n",
    "        padding=\"max_length\",\n",
    "        return_offsets_mapping=True,\n",
    "    )\n",
    "    \n",
    "    # Compute character spans of structured docid parts\n",
    "    docid = example[\"docid\"]\n",
    "    company, year, *keywords = docid.split(\"-\")\n",
    "    keyword_pairs = list(zip(keywords[::2], keywords[1::2]))\n",
    "\n",
    "    # You must find these spans in the original text (example[\"text\"])\n",
    "    spans = find_docid_component_spans(example[\"text\"], company, year, keyword_pairs)\n",
    "    # Output: { \"company\": [(start, end)], \"year\": [...], ... }\n",
    "\n",
    "    weights = [0.0] * len(encoding[\"input_ids\"])\n",
    "    for i, (start, end) in enumerate(encoding[\"offset_mapping\"]):\n",
    "        if start == end:\n",
    "            continue\n",
    "        for category, cat_spans in spans.items():\n",
    "            for span_start, span_end in cat_spans:\n",
    "                if start >= span_start and end <= span_end:\n",
    "                    if category == \"company\" or category == \"year\":\n",
    "                        weights[i] = 5.0\n",
    "                    elif category == \"keyword\":\n",
    "                        weights[i] = 1.0\n",
    "                    elif category == \"structure\":\n",
    "                        weights[i] = 0.5\n",
    "\n",
    "    encoding[\"weights\"] = weights\n",
    "    return encoding\n",
    "\n",
    "docid = \"ADI-2009-currency-exposures-libor-changes-forward-foreign\"\n",
    "docid2 = \"ADI-2009-currency-exposures-libor-changes-forward-foreign\"\n",
    "text = f\"here is {docid2}\"\n",
    "parts = docid.split(\"-\")\n",
    "company = parts[0]\n",
    "year = parts[1]\n",
    "keyword_pairs = [(kw, kw2) for kw, kw2 in zip(parts[2::2], parts[3::2])]\n",
    "\n",
    "print(len(text))\n",
    "\n",
    "find_docid_component_spans(text, company, year, keyword_pairs)"
   ]
  },
  {
   "cell_type": "code",
   "execution_count": 2,
   "id": "d9f43229",
   "metadata": {},
   "outputs": [
    {
     "name": "stdout",
     "output_type": "stream",
     "text": [
      "<pad> adi-2009</s>\n"
     ]
    }
   ],
   "source": [
    "# text = (\n",
    "#     \"Generate a question for the text: Text:\"\n",
    "#     \"I went to work on the latest software update. \"\n",
    "#     \"Many people are working on it.\"\n",
    "#     \"It will be released in the next summer.\"\n",
    "#     \"Speaking of summer, I will go on summer vacation\"\n",
    "#     \"I will be going to Germany for 4 days.\"\n",
    "#     \"Berlin seems to be a nice location at that time of the year.\"\n",
    "#     \"After the 4 days, I will go to Italy for 2 weeks.\"\n",
    "#     \"They have the nicest beaches in the summer.\"\n",
    "#     \"I hope will get a nice tan.\"\n",
    "# )\n",
    "\n",
    "full_docid = \"adi-2009-currency-exposures-libor-changes\"\n",
    "company, year, *keywords = full_docid.split(\"-\")\n",
    "docid = \"-\".join(keywords)\n",
    "\n",
    "query = \"What is the estimated currency cost for exposures\"\n",
    "structured_query = f\"{company}-{year}, {query}\"\n",
    "\n",
    "# Improved version of prompt\n",
    "instruction = (\n",
    "    \"Answer the question using a document ID in the format: \"\n",
    "    \"company-year-keyword-keyword-keyword-keyword.\"\n",
    ")\n",
    "\n",
    "# Final prompt\n",
    "text = f\"{instruction}\\nQuestion: {structured_query}\\nAnswer:\"\n",
    "\n",
    "\n",
    "model_inputs = tokenize(text)\n",
    "generated = model.generate(model_inputs[\"input_ids\"].to(model.device), attention_mask=model_inputs[\"attention_mask\"].to(model.device), max_length=64)\n",
    "\n",
    "print(tokenizer.decode(generated[0], skip_special_tokens=False))"
   ]
  },
  {
   "cell_type": "code",
   "execution_count": 6,
   "id": "7fd7cc59",
   "metadata": {},
   "outputs": [
    {
     "data": {
      "text/plain": [
       "dict_keys(['input_ids', 'attention_mask', 'offset_mapping'])"
      ]
     },
     "execution_count": 6,
     "metadata": {},
     "output_type": "execute_result"
    }
   ],
   "source": [
    "model_inputs.keys()"
   ]
  },
  {
   "cell_type": "code",
   "execution_count": 2,
   "id": "25f4d2c5",
   "metadata": {},
   "outputs": [],
   "source": [
    "import pandas as pd\n",
    "\n",
    "df = pd.read_csv(\"/home/nub/Bachelor/bachelor-thesis/data/processed/documents.csv\")\n",
    "df[\"new_id\"] = df[\"document_id\"].apply(lambda x: \"-\".join(x.split(\"-\")[2:]))"
   ]
  }
 ],
 "metadata": {
  "kernelspec": {
   "display_name": "venv_thesis",
   "language": "python",
   "name": "python3"
  },
  "language_info": {
   "codemirror_mode": {
    "name": "ipython",
    "version": 3
   },
   "file_extension": ".py",
   "mimetype": "text/x-python",
   "name": "python",
   "nbconvert_exporter": "python",
   "pygments_lexer": "ipython3",
   "version": "3.12.3"
  }
 },
 "nbformat": 4,
 "nbformat_minor": 5
}
