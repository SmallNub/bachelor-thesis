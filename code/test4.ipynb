{
 "cells": [
  {
   "cell_type": "code",
   "execution_count": 11,
   "id": "d45dc2f5",
   "metadata": {},
   "outputs": [],
   "source": [
    "import pandas as pd\n",
    "from sentence_transformers import SentenceTransformer\n",
    "from keybert import KeyBERT\n",
    "\n",
    "MODEL_NAME = \"all-MiniLM-L6-v2\"\n",
    "MODELS_DIR = \"/home/nub/Bachelor/bachelor-thesis/models\"\n",
    "\n",
    "DATA_DOCUMENTS = \"/home/nub/Bachelor/bachelor-thesis/data/processed/documents.csv\"\n",
    "\n",
    "model = SentenceTransformer(\n",
    "    MODEL_NAME,\n",
    "    cache_folder=MODELS_DIR,\n",
    "    local_files_only=False,\n",
    "    device=\"cuda\"\n",
    ")\n",
    "\n",
    "documents_df = pd.read_csv(DATA_DOCUMENTS)\n",
    "\n",
    "kw_model = KeyBERT(model)\n",
    "keywords_list = kw_model.extract_keywords(\n",
    "    documents_df[\"document\"],\n",
    "    keyphrase_ngram_range=(2, 2),\n",
    "    stop_words=\"english\",\n",
    "    use_mmr=True,\n",
    "    diversity=0.5,\n",
    "    top_n=3\n",
    ")"
   ]
  },
  {
   "cell_type": "code",
   "execution_count": 24,
   "id": "cb17d15b",
   "metadata": {},
   "outputs": [],
   "source": [
    "new_docids = []\n",
    "scores = []\n",
    "\n",
    "for keywords, docid in zip(keywords_list, documents_df[\"document_id\"]):\n",
    "    company, year, page = docid.split(\"/\")\n",
    "    new_docid = f\"{company}-{year}\"\n",
    "    total_score = 0\n",
    "    for keyword, score in keywords:\n",
    "        new_docid += f\"-{'-'.join(keyword.split())}\"\n",
    "        total_score += score\n",
    "\n",
    "    new_docids.append(new_docid)\n",
    "    scores.append(total_score)\n",
    "\n",
    "documents_df.rename({\"document_id\": \"old_document_id\"}, inplace=True)\n",
    "documents_df[\"document_id\"] = new_docids\n",
    "documents_df[\"score\"] = scores"
   ]
  },
  {
   "cell_type": "code",
   "execution_count": 35,
   "id": "8dea24d0",
   "metadata": {},
   "outputs": [
    {
     "data": {
      "text/plain": [
       "['aa', ' asa']"
      ]
     },
     "execution_count": 35,
     "metadata": {},
     "output_type": "execute_result"
    }
   ],
   "source": [
    "\"aa- asa\".split(\"-\")"
   ]
  }
 ],
 "metadata": {
  "kernelspec": {
   "display_name": "venv_thesis",
   "language": "python",
   "name": "python3"
  },
  "language_info": {
   "codemirror_mode": {
    "name": "ipython",
    "version": 3
   },
   "file_extension": ".py",
   "mimetype": "text/x-python",
   "name": "python",
   "nbconvert_exporter": "python",
   "pygments_lexer": "ipython3",
   "version": "3.12.3"
  }
 },
 "nbformat": 4,
 "nbformat_minor": 5
}
